{
 "cells": [
  {
   "cell_type": "markdown",
   "metadata": {},
   "source": [
    "# <center>Tensorflow 学习笔记</center>\n",
    "\n",
    "## 安装\n",
    "anaconda是python的发行版，里面集成了常用的python库，如numpy，scipy等，并且有conda对包进行更新和管理，可以说对新手非常友好。\n",
    "\n",
    "以windows平台下的安装GPU版本为例：\n",
    "\n",
    "1. 建立虚拟环境: 我们建立了一个名称为`tensorflow`的虚拟环境，其中python的版本号是3.6\n",
    "\n",
    "  >   `conda create --name  tensorflow python=3.6   `\n",
    "     \n",
    "2. 激活虚拟环境\n",
    "\n",
    "  >  `activate tensorflow`\n",
    "    \n",
    "3. 安装GPU版本的tensorflow(注意：前提是你的GPU要支持并行运算，否则请安装CPU版本)。 根据最新消息，这条命名执行时会自动安装CUDA以及显卡相关的驱动等。\n",
    "  >  `conda install -c anaconda tensorflow-gpu    `\n",
    "   \n",
    "   \n",
    "4. 检测是否安装成功\n",
    "  > ``` import tensorflow as tf\n",
    "  tf.__version__    ``` \n",
    "  \n",
    "  "
   ]
  },
  {
   "cell_type": "code",
   "execution_count": 1,
   "metadata": {},
   "outputs": [
    {
     "data": {
      "text/plain": [
       "'1.12.0'"
      ]
     },
     "execution_count": 1,
     "metadata": {},
     "output_type": "execute_result"
    }
   ],
   "source": [
    "import tensorflow as tf\n",
    "tf.__version__"
   ]
  },
  {
   "cell_type": "markdown",
   "metadata": {},
   "source": [
    "能够正确返回结果，说明我们已经安装成功。\n",
    "\n",
    "可以看到，当前tensorflow版本是1.12版，估计不久后，正式的tensorflow2.0版将要发布。\n",
    "\n",
    "我们还可以通过如下命令查看设备\n",
    " \n",
    "```\n",
    "sess = tf.Session()) #创建了一个会话\n",
    "\n",
    "```\n",
    "![GPU](./image/xianshi.png)\n",
    "\n",
    "可以看到，我的笔记本的GPU为GTX960,计算能力评分为5，而tensorflow的官方建议要大于3.5，可以说勉强够用。"
   ]
  },
  {
   "cell_type": "markdown",
   "metadata": {},
   "source": [
    "## 第一个程序\n",
    "在命令行中输入`activtae tensorflow`激活conda虚拟环境，再输入`jupyter notebook`，后，浏览器就会打开jupyter dashboard，新建一个ipynb文件，我们就进行演示了。输入以下程序："
   ]
  },
  {
   "cell_type": "code",
   "execution_count": 21,
   "metadata": {},
   "outputs": [
    {
     "name": "stdout",
     "output_type": "stream",
     "text": [
      "3\n"
     ]
    }
   ],
   "source": [
    "import tensorflow as tf  #载入tensorflow\n",
    "\n",
    "a = tf.constant(1)\n",
    "b = tf.constant(2) # 创建两个常数\n",
    "\n",
    "c = a + b  # 创建operation\n",
    "\n",
    "sess = tf.Session() # 创建会话\n",
    " \n",
    "print(sess.run(c))  #打印计算结果"
   ]
  },
  {
   "cell_type": "code",
   "execution_count": 20,
   "metadata": {},
   "outputs": [
    {
     "data": {
      "text/plain": [
       "<tf.Tensor 'hah_1:0' shape=() dtype=int32>"
      ]
     },
     "execution_count": 20,
     "metadata": {},
     "output_type": "execute_result"
    }
   ],
   "source": []
  },
  {
   "cell_type": "code",
   "execution_count": 22,
   "metadata": {},
   "outputs": [],
   "source": []
  },
  {
   "cell_type": "code",
   "execution_count": 25,
   "metadata": {},
   "outputs": [
    {
     "data": {
      "text/plain": [
       "module"
      ]
     },
     "execution_count": 25,
     "metadata": {},
     "output_type": "execute_result"
    }
   ],
   "source": []
  },
  {
   "cell_type": "code",
   "execution_count": null,
   "metadata": {},
   "outputs": [],
   "source": []
  }
 ],
 "metadata": {
  "kernelspec": {
   "display_name": "Python 3",
   "language": "python",
   "name": "python3"
  },
  "language_info": {
   "codemirror_mode": {
    "name": "ipython",
    "version": 3
   },
   "file_extension": ".py",
   "mimetype": "text/x-python",
   "name": "python",
   "nbconvert_exporter": "python",
   "pygments_lexer": "ipython3",
   "version": "3.6.6"
  }
 },
 "nbformat": 4,
 "nbformat_minor": 2
}
